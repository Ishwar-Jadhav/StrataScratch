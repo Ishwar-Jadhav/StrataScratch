{
 "cells": [
  {
   "cell_type": "markdown",
   "metadata": {},
   "source": [
    "## Left rotate an array by 1"
   ]
  },
  {
   "cell_type": "code",
   "execution_count": 5,
   "metadata": {},
   "outputs": [
    {
     "name": "stdout",
     "output_type": "stream",
     "text": [
      "n =  5\n",
      "2 3 4 5 1 \n"
     ]
    }
   ],
   "source": [
    "\n",
    "#BRUTE \n",
    "arr = [1, 2, 3, 4, 5]\n",
    "n = len(arr)\n",
    "print(\"n = \", n)\n",
    "\n",
    "temp = [0] * n\n",
    "for i in range(1, n):\n",
    "    temp[i - 1] = arr[i]\n",
    "temp[n - 1] = arr[0]\n",
    "\n",
    "for i in range(n):\n",
    "    print(temp[i], end = \" \")\n",
    "print()\n"
   ]
  },
  {
   "cell_type": "code",
   "execution_count": 7,
   "metadata": {},
   "outputs": [
    {
     "name": "stdout",
     "output_type": "stream",
     "text": [
      "2 3 4 5 1 \n"
     ]
    }
   ],
   "source": [
    "#OPTIMAL\n",
    "arr = [1, 2, 3, 4, 5]\n",
    "temp = arr[0]\n",
    "for i in range(n - 1):\n",
    "    arr[i] = arr[i + 1]\n",
    "arr[n-1] = temp\n",
    "for i in range(n):\n",
    "    print(arr[i], end = \" \")\n",
    "print()\n",
    "    "
   ]
  },
  {
   "cell_type": "markdown",
   "metadata": {},
   "source": [
    "## Left rotate an array by k values"
   ]
  },
  {
   "cell_type": "code",
   "execution_count": 23,
   "metadata": {},
   "outputs": [
    {
     "name": "stdout",
     "output_type": "stream",
     "text": [
      "first reversal [7, 6, 5, 4, 3, 2, 1]\n",
      "second reversal [5, 6, 7, 4, 3, 2, 1]\n",
      "final reversal [5, 6, 7, 1, 2, 3, 4]\n"
     ]
    }
   ],
   "source": [
    "nums = [1, 2, 3, 4, 5, 6, 7]\n",
    "k = 3\n",
    "k = k % len(nums)\n",
    "\n",
    "l, r = 0, len(nums) - 1\n",
    "while l < r:\n",
    "    nums[l], nums[r] = nums[r], nums[l]\n",
    "    l += 1\n",
    "    r -= 1\n",
    "print(\"first reversal\", nums)\n",
    "\n",
    "l, r = 0, k - 1\n",
    "while l < r:\n",
    "    nums[l], nums[r] = nums[r], nums[l]\n",
    "    l += 1\n",
    "    r -= 1\n",
    "print(\"second reversal\", nums)\n",
    "\n",
    "l, r = k, len(nums) - 1\n",
    "while l < r:\n",
    "    nums[l], nums[r] = nums[r], nums[l]\n",
    "    l += 1\n",
    "    r -= 1\n",
    "print(\"final reversal\", nums)"
   ]
  },
  {
   "cell_type": "code",
   "execution_count": null,
   "metadata": {},
   "outputs": [],
   "source": []
  },
  {
   "cell_type": "code",
   "execution_count": 17,
   "metadata": {},
   "outputs": [
    {
     "name": "stdout",
     "output_type": "stream",
     "text": [
      "3\n"
     ]
    }
   ],
   "source": []
  },
  {
   "cell_type": "code",
   "execution_count": null,
   "metadata": {},
   "outputs": [],
   "source": []
  }
 ],
 "metadata": {
  "kernelspec": {
   "display_name": "Python 3",
   "language": "python",
   "name": "python3"
  },
  "language_info": {
   "codemirror_mode": {
    "name": "ipython",
    "version": 3
   },
   "file_extension": ".py",
   "mimetype": "text/x-python",
   "name": "python",
   "nbconvert_exporter": "python",
   "pygments_lexer": "ipython3",
   "version": "3.12.4"
  }
 },
 "nbformat": 4,
 "nbformat_minor": 2
}
