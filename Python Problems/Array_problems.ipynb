{
 "cells": [
  {
   "cell_type": "markdown",
   "metadata": {},
   "source": [
    "## Left rotate an array by 1"
   ]
  },
  {
   "cell_type": "code",
   "execution_count": 5,
   "metadata": {},
   "outputs": [
    {
     "name": "stdout",
     "output_type": "stream",
     "text": [
      "n =  5\n",
      "2 3 4 5 1 \n"
     ]
    }
   ],
   "source": [
    "\n",
    "#BRUTE \n",
    "arr = [1, 2, 3, 4, 5]\n",
    "n = len(arr)\n",
    "print(\"n = \", n)\n",
    "\n",
    "temp = [0] * n\n",
    "for i in range(1, n):\n",
    "    temp[i - 1] = arr[i]\n",
    "temp[n - 1] = arr[0]\n",
    "\n",
    "for i in range(n):\n",
    "    print(temp[i], end = \" \")\n",
    "print()\n"
   ]
  },
  {
   "cell_type": "code",
   "execution_count": 7,
   "metadata": {},
   "outputs": [
    {
     "name": "stdout",
     "output_type": "stream",
     "text": [
      "2 3 4 5 1 \n"
     ]
    }
   ],
   "source": [
    "#OPTIMAL\n",
    "arr = [1, 2, 3, 4, 5]\n",
    "temp = arr[0]\n",
    "for i in range(n - 1):\n",
    "    arr[i] = arr[i + 1]\n",
    "arr[n-1] = temp\n",
    "for i in range(n):\n",
    "    print(arr[i], end = \" \")\n",
    "print()\n",
    "    "
   ]
  },
  {
   "cell_type": "markdown",
   "metadata": {},
   "source": [
    "## Left rotate an array by k values"
   ]
  },
  {
   "cell_type": "code",
   "execution_count": 23,
   "metadata": {},
   "outputs": [
    {
     "name": "stdout",
     "output_type": "stream",
     "text": [
      "first reversal [7, 6, 5, 4, 3, 2, 1]\n",
      "second reversal [5, 6, 7, 4, 3, 2, 1]\n",
      "final reversal [5, 6, 7, 1, 2, 3, 4]\n"
     ]
    }
   ],
   "source": [
    "nums = [1, 2, 3, 4, 5, 6, 7]\n",
    "k = 3\n",
    "k = k % len(nums)\n",
    "\n",
    "l, r = 0, len(nums) - 1\n",
    "while l < r:\n",
    "    nums[l], nums[r] = nums[r], nums[l]\n",
    "    l += 1\n",
    "    r -= 1\n",
    "print(\"first reversal\", nums)\n",
    "\n",
    "l, r = 0, k - 1\n",
    "while l < r:\n",
    "    nums[l], nums[r] = nums[r], nums[l]\n",
    "    l += 1\n",
    "    r -= 1\n",
    "print(\"second reversal\", nums)\n",
    "\n",
    "l, r = k, len(nums) - 1\n",
    "while l < r:\n",
    "    nums[l], nums[r] = nums[r], nums[l]\n",
    "    l += 1\n",
    "    r -= 1\n",
    "print(\"final reversal\", nums)"
   ]
  },
  {
   "cell_type": "markdown",
   "metadata": {},
   "source": [
    "## Move Zeroes"
   ]
  },
  {
   "cell_type": "code",
   "execution_count": 44,
   "metadata": {},
   "outputs": [
    {
     "name": "stdout",
     "output_type": "stream",
     "text": [
      "lenght =  5\n",
      "[1, 3, 12, 0, 0]\n"
     ]
    }
   ],
   "source": [
    "nums = [0, 1, 0, 3, 12]\n",
    "print(\"lenght = \", len(nums))\n",
    "\n",
    "l = 0\n",
    "for r in range(len(nums)):\n",
    "    if nums[l] == 0 and nums[r] != 0:\n",
    "        nums[l], nums[r] = nums[r], 0\n",
    "        l += 1        \n",
    "print(nums)\n"
   ]
  },
  {
   "cell_type": "markdown",
   "metadata": {},
   "source": [
    "## Missing Number"
   ]
  },
  {
   "cell_type": "code",
   "execution_count": 66,
   "metadata": {},
   "outputs": [
    {
     "name": "stdout",
     "output_type": "stream",
     "text": [
      "8\n"
     ]
    }
   ],
   "source": [
    "nums = [9,6,4,2,3,5,7,0,1]\n",
    "\n",
    "res = len(nums)\n",
    "for i in range(len(nums)):\n",
    "    res = res + (i - nums[i])\n",
    "print(res)"
   ]
  },
  {
   "cell_type": "markdown",
   "metadata": {},
   "source": [
    "## Max Consecutive Ones"
   ]
  },
  {
   "cell_type": "code",
   "execution_count": 77,
   "metadata": {},
   "outputs": [
    {
     "name": "stdout",
     "output_type": "stream",
     "text": [
      "3\n"
     ]
    }
   ],
   "source": [
    "del max\n",
    "nums = [1, 1, 0, 1, 1, 1, 0]\n",
    "max_count = current_count = 0\n",
    "\n",
    "for num in nums:\n",
    "    if num == 1:\n",
    "        current_count += 1\n",
    "        max_count = max(max_count, current_count)\n",
    "    else:\n",
    "        current_count = 0\n",
    "\n",
    "print(max_count)"
   ]
  },
  {
   "cell_type": "markdown",
   "metadata": {},
   "source": [
    "## Two Sum"
   ]
  },
  {
   "cell_type": "code",
   "execution_count": 89,
   "metadata": {},
   "outputs": [
    {
     "name": "stdout",
     "output_type": "stream",
     "text": [
      "4 6\n"
     ]
    }
   ],
   "source": [
    "nums  = [1, 4, 6, 2, 7, 5, 7]\n",
    "target = 14\n",
    "\n",
    "for l in range(len(nums) - 1):\n",
    "    for r in range(l + 1, len(nums)):\n",
    "        if nums[l] + nums [r] != target:\n",
    "            continue\n",
    "        else:\n",
    "            print(l, r)"
   ]
  },
  {
   "cell_type": "code",
   "execution_count": null,
   "metadata": {},
   "outputs": [],
   "source": []
  }
 ],
 "metadata": {
  "kernelspec": {
   "display_name": "Python 3",
   "language": "python",
   "name": "python3"
  },
  "language_info": {
   "codemirror_mode": {
    "name": "ipython",
    "version": 3
   },
   "file_extension": ".py",
   "mimetype": "text/x-python",
   "name": "python",
   "nbconvert_exporter": "python",
   "pygments_lexer": "ipython3",
   "version": "3.12.4"
  }
 },
 "nbformat": 4,
 "nbformat_minor": 2
}
